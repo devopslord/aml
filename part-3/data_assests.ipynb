{
 "cells": [
  {
   "cell_type": "code",
   "execution_count": null,
   "metadata": {},
   "outputs": [],
   "source": [
    "# Enter details of your AML workspace\n",
    "subscription_id = \"39ee2a0a-f507-xxxxxxxxxxxxxxxxxxxx\"\n",
    "resource_group = \"aml-dev-rg\"\n",
    "workspace = \"aml-ws\"\n",
    "\n",
    "# get a handle to the workspace\n",
    "ml_client = MLClient(\n",
    "    DefaultAzureCredential(), subscription_id, resource_group, workspace\n",
    ")\n",
    "\n",
    "from azure.ai.ml.entities import Data\n",
    "from azure.ai.ml.constants import AssetTypes\n",
    "\n",
    "# my_path must point to folder containing MLTable artifact (MLTable file + data\n",
    "# Supported paths include:\n",
    "# local: './<path>'\n",
    "# blob:  'https://<account_name>.blob.core.windows.net/<container_name>/<path>'\n",
    "# ADLS gen2: 'abfss://<file_system>@<account_name>.dfs.core.windows.net/<path>/'\n",
    "# Datastore: 'azureml://datastores/<data_store_name>/paths/<path>'\n",
    "\n",
    "my_path = './my_data/'\n",
    "\n",
    "my_data = Data(\n",
    "    path=my_path,\n",
    "    type=AssetTypes.MLTABLE,\n",
    "    description=\"description\",\n",
    "    name=\"titanic-mltable\",\n",
    "    version='1'\n",
    ")\n",
    "\n",
    "ml_client.data.create_or_update(my_data)"
   ]
  }
 ],
 "metadata": {
  "language_info": {
   "name": "python"
  }
 },
 "nbformat": 4,
 "nbformat_minor": 2
}
